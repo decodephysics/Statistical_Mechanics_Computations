{
 "cells": [
  {
   "cell_type": "markdown",
   "metadata": {},
   "source": [
    "Homogeneous one in which all sites have same weights."
   ]
  },
  {
   "cell_type": "code",
   "execution_count": 11,
   "metadata": {},
   "outputs": [
    {
     "name": "stdout",
     "output_type": "stream",
     "text": [
      "('final site', 5, 'relative occurance in N_iter', [110, 104, 111, 106, 120, 116, 79, 115, 139])\n"
     ]
    }
   ],
   "source": [
    "import random\n",
    "neighbour=[[1,0,0,3],[2,1,0,4],[2,2,1,5],[4,0,3,6],[5,1,3,7],[5,2,4,8],[7,3,6,6],[8,4,6,7],[8,5,7,8]]\n",
    "hist=[0,0,0,0,0,0,0,0,0]\n",
    "site=0\n",
    "N_iter=1000\n",
    "for i in range(N_iter):\n",
    "    site=neighbour[site][random.randint(0,3)]\n",
    "    hist[site]+=1\n",
    "print(\"final site\",site,\"relative occurance in N_iter\",hist)"
   ]
  },
  {
   "cell_type": "markdown",
   "metadata": {},
   "source": [
    "Non-Homogeneous one in which all sites don't have same weights."
   ]
  },
  {
   "cell_type": "code",
   "execution_count": 26,
   "metadata": {},
   "outputs": [
    {
     "name": "stdout",
     "output_type": "stream",
     "text": [
      "('final site', 5, 'relative occurance in N_iter', array([2.768, 0.47 , 0.954, 0.464, 1.085, 0.608, 1.945, 0.546, 1.16 ]))\n"
     ]
    }
   ],
   "source": [
    "import random\n",
    "import numpy as np\n",
    "neighbour=[[1,0,0,3],[2,1,0,4],[2,2,1,5],[4,0,3,6],[5,1,3,7],[5,2,4,8],[7,3,6,6],[8,4,6,7],[8,5,7,8]]\n",
    "weight=[3.0,0.5,1.0,0.5,1.0,0.5,2.0,0.5,1.0]\n",
    "hist=[0,0,0,0,0,0,0,0,0]\n",
    "N_iter=10000\n",
    "pos=0\n",
    "for i in range(N_iter):\n",
    "    new_pos=neighbour[pos][random.randint(0,3)]\n",
    "    if random.random() < weight[new_pos]/weight[pos]:\n",
    "        pos=new_pos\n",
    "    hist[pos]+=1\n",
    "print(\"final site\",site,\"relative occurance in N_iter\",np.array(hist)*(10/float(N_iter)))"
   ]
  }
 ],
 "metadata": {
  "kernelspec": {
   "display_name": "Python 2",
   "language": "python",
   "name": "python2"
  },
  "language_info": {
   "codemirror_mode": {
    "name": "ipython",
    "version": 2
   },
   "file_extension": ".py",
   "mimetype": "text/x-python",
   "name": "python",
   "nbconvert_exporter": "python",
   "pygments_lexer": "ipython2",
   "version": "2.7.16"
  }
 },
 "nbformat": 4,
 "nbformat_minor": 2
}
